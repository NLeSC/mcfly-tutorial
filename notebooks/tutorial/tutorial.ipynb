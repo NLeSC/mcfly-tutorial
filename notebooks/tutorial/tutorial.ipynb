{
 "cells": [
  {
   "cell_type": "markdown",
   "metadata": {},
   "source": [
    "# Tutorial PAMAP2 with mcfly"
   ]
  },
  {
   "cell_type": "markdown",
   "metadata": {},
   "source": [
    "The goal of this tutorial is to get you familiar with training Neural Networks for time series using mcfly. At the end of the tutorial, you will have compared several Neural Network architectures you know how to train the best performing network.\n",
    "\n",
    "As an example dataset we use the publicly available [PAMAP2 dataset](https://archive.ics.uci.edu/ml/datasets/PAMAP2+Physical+Activity+Monitoring). It contains time series data from movement sensors worn by nine individuals. The data is labelled with the activity types that these individuals did and the aim is to train and evaluate a *classifier*.\n",
    "\n",
    "Before you can start, please make sure you install mcfly (see the [mcfly installation page](https://github.com/NLeSC/mcfly))."
   ]
  },
  {
   "cell_type": "markdown",
   "metadata": {},
   "source": [
    "## Import required Python modules"
   ]
  },
  {
   "cell_type": "code",
   "execution_count": 1,
   "metadata": {
    "scrolled": false
   },
   "outputs": [
    {
     "name": "stderr",
     "output_type": "stream",
     "text": [
      "Using TensorFlow backend.\n"
     ]
    }
   ],
   "source": [
    "import sys\n",
    "import os\n",
    "import numpy as np\n",
    "import pandas as pd\n",
    "# mcfly\n",
    "from mcfly import modelgen, find_architecture, storage\n",
    "from keras.models import load_model\n",
    "np.random.seed(2)"
   ]
  },
  {
   "cell_type": "code",
   "execution_count": 2,
   "metadata": {},
   "outputs": [],
   "source": [
    "sys.path.insert(0, os.path.abspath('../..'))\n",
    "from utils import tutorial_pamap2"
   ]
  },
  {
   "cell_type": "markdown",
   "metadata": {},
   "source": [
    "## Download data pre-procesed data"
   ]
  },
  {
   "cell_type": "markdown",
   "metadata": {},
   "source": [
    "We have created a function for you to fetch the preprocessed data from https://zenodo.org/record/834467. Please specify the `directory_to_extract_to` in the code below and then execute the cell. This will download the preprocessed data into the directory in the `data` subdirectory. The output of the function is the path where the preprocessed data was stored."
   ]
  },
  {
   "cell_type": "code",
   "execution_count": 3,
   "metadata": {},
   "outputs": [],
   "source": [
    "# Specify in which directory you want to store the data:\n",
    "directory_to_extract_to = \"C:\\\\Users\\FlorianHuber\\\\OneDrive - Netherlands eScience Center\\\\Project_mcfly\\\\mcfly-tutorial\""
   ]
  },
  {
   "cell_type": "code",
   "execution_count": 5,
   "metadata": {},
   "outputs": [
    {
     "name": "stdout",
     "output_type": "stream",
     "text": [
      "Data already downloaded\n",
      "Extracting data...\n",
      "Done\n"
     ]
    }
   ],
   "source": [
    "data_path = tutorial_pamap2.download_preprocessed_data(directory_to_extract_to)"
   ]
  },
  {
   "cell_type": "markdown",
   "metadata": {},
   "source": [
    "## A bit about the data"
   ]
  },
  {
   "cell_type": "markdown",
   "metadata": {},
   "source": [
    "The [PAMAP2 dataset](https://archive.ics.uci.edu/ml/datasets/PAMAP2+Physical+Activity+Monitoring) contains data from three movement sensors worn by nine test subjects. These subjects performed a protocol of several activities.\n",
    "\n",
    "The data originates from three sensors (on the hand, ankle and chest) and from each of the sensors we have three channels (acceleration on x, y and z axes). This gives us, for each time step, 9 values. The data is recorded at 100 Hz.\n",
    "\n",
    "The preprocessed data is split into smaller segments with a window of 512 time steps, corresponding to 5.12 seconds. We only include segments that completely fall into one activity period: the activity is the *label* of the segment.\n",
    "\n",
    "The goal of classification is to assign an activity label to an previously unseen segment."
   ]
  },
  {
   "cell_type": "markdown",
   "metadata": {},
   "source": [
    "## Load the pre-processed data"
   ]
  },
  {
   "cell_type": "markdown",
   "metadata": {},
   "source": [
    "Load the preprocessed data as stored in Numpy-files. Please note that the data has already been split up in a training (training), validation (val), and test subsets. It is common practice to call the input data X and the labels y."
   ]
  },
  {
   "cell_type": "code",
   "execution_count": 6,
   "metadata": {},
   "outputs": [],
   "source": [
    "X_train, y_train_binary, X_val, y_val_binary, X_test, y_test_binary, labels = tutorial_pamap2.load_data(data_path)"
   ]
  },
  {
   "cell_type": "markdown",
   "metadata": {},
   "source": [
    "Data X and labels y are of type Numpy array. <br>\n",
    "In the cell below we inspect the shape of the data. As you can see the shape of X is expressed as a Python tuple containing: the number of samples, length of the time series, and the number of channels for each sample. Similarly, the shape of y represents the number of samples and the number of classes (unique labels). Note that y has the format of a binary array where only the correct class for each sample is assigned a 1. This is called one-hot-encoding."
   ]
  },
  {
   "cell_type": "code",
   "execution_count": 7,
   "metadata": {},
   "outputs": [
    {
     "name": "stdout",
     "output_type": "stream",
     "text": [
      "x shape: (11397, 512, 9)\n",
      "y shape: (11397, 7)\n"
     ]
    }
   ],
   "source": [
    "print('x shape:', X_train.shape)\n",
    "print('y shape:', y_train_binary.shape)"
   ]
  },
  {
   "cell_type": "markdown",
   "metadata": {},
   "source": [
    "The data is split between train, test, and validation."
   ]
  },
  {
   "cell_type": "code",
   "execution_count": 8,
   "metadata": {},
   "outputs": [
    {
     "name": "stdout",
     "output_type": "stream",
     "text": [
      "train set size: 11397\n",
      "validation set size: 100\n",
      "test set size: 1000\n"
     ]
    }
   ],
   "source": [
    "print('train set size:', X_train.shape[0])\n",
    "print('validation set size:', X_val.shape[0])\n",
    "print('test set size:', X_test.shape[0])"
   ]
  },
  {
   "cell_type": "markdown",
   "metadata": {},
   "source": [
    "Let's have a look at the distribution of the labels:"
   ]
  },
  {
   "cell_type": "code",
   "execution_count": 9,
   "metadata": {},
   "outputs": [
    {
     "data": {
      "text/html": [
       "<div>\n",
       "<style scoped>\n",
       "    .dataframe tbody tr th:only-of-type {\n",
       "        vertical-align: middle;\n",
       "    }\n",
       "\n",
       "    .dataframe tbody tr th {\n",
       "        vertical-align: top;\n",
       "    }\n",
       "\n",
       "    .dataframe thead th {\n",
       "        text-align: right;\n",
       "    }\n",
       "</style>\n",
       "<table border=\"1\" class=\"dataframe\">\n",
       "  <thead>\n",
       "    <tr style=\"text-align: right;\">\n",
       "      <th></th>\n",
       "      <th>frequency</th>\n",
       "    </tr>\n",
       "  </thead>\n",
       "  <tbody>\n",
       "    <tr>\n",
       "      <th>lying</th>\n",
       "      <td>0.136615</td>\n",
       "    </tr>\n",
       "    <tr>\n",
       "      <th>sitting</th>\n",
       "      <td>0.130736</td>\n",
       "    </tr>\n",
       "    <tr>\n",
       "      <th>standing</th>\n",
       "      <td>0.136703</td>\n",
       "    </tr>\n",
       "    <tr>\n",
       "      <th>walking</th>\n",
       "      <td>0.176625</td>\n",
       "    </tr>\n",
       "    <tr>\n",
       "      <th>cycling</th>\n",
       "      <td>0.118540</td>\n",
       "    </tr>\n",
       "    <tr>\n",
       "      <th>vaccuum_cleaning</th>\n",
       "      <td>0.125208</td>\n",
       "    </tr>\n",
       "    <tr>\n",
       "      <th>ironing</th>\n",
       "      <td>0.175573</td>\n",
       "    </tr>\n",
       "  </tbody>\n",
       "</table>\n",
       "</div>"
      ],
      "text/plain": [
       "                  frequency\n",
       "lying              0.136615\n",
       "sitting            0.130736\n",
       "standing           0.136703\n",
       "walking            0.176625\n",
       "cycling            0.118540\n",
       "vaccuum_cleaning   0.125208\n",
       "ironing            0.175573"
      ]
     },
     "execution_count": 9,
     "metadata": {},
     "output_type": "execute_result"
    }
   ],
   "source": [
    "frequencies = y_train_binary.mean(axis=0)\n",
    "frequencies_df = pd.DataFrame(frequencies, index=labels, columns=['frequency'])\n",
    "frequencies_df"
   ]
  },
  {
   "cell_type": "markdown",
   "metadata": {},
   "source": [
    "### *Question 1: How many channels does this dataset have?*\n",
    "### *Question 2: What is the least common activity label in this dataset?*\n",
    "\n",
    "    "
   ]
  },
  {
   "cell_type": "markdown",
   "metadata": {},
   "source": [
    "## Generate models"
   ]
  },
  {
   "cell_type": "markdown",
   "metadata": {},
   "source": [
    "First step in the development of any deep learning model is to create a model architecture. <br> As we do not know what architecture is best for our data we will create a set of random models to investigate which architecture is most suitable for our data and classification task. This process, creating random models, checking how good they are and then selecting the best one is called a _'random search'_. A random search is considered to be the most robust approach to finding a good model. You will need to specificy how many models you want to create with argument 'number_of_models'. For a full overview of the optional arguments see the function documentation of modelgen.generate_models by running `modelgen.generate_models?`.\n",
    "\n",
    "##### What number of models to select?\n",
    "This number differs per dataset. More models will give better results but it will take longer to evaluate them. For the purpose of this tutorial we recommend trying only 2 models to begin with. If you have enough time you can try a larger number of models, e.g. 10 or 20 models. Because mcfly uses random search, you will get better results when using more models."
   ]
  },
  {
   "cell_type": "code",
   "execution_count": 10,
   "metadata": {},
   "outputs": [],
   "source": [
    "num_classes = y_train_binary.shape[1]\n",
    "\n",
    "models = modelgen.generate_models(X_train.shape,\n",
    "                                  number_of_classes=num_classes,\n",
    "                                  number_of_models = 5)"
   ]
  },
  {
   "cell_type": "markdown",
   "metadata": {},
   "source": [
    "# Inspect the models\n",
    "We can have a look at the models that were generated. <br>\n",
    "Running `model_visualization.model_overview` allows to compare the generated models. This simplified graphical representations will display the different layers of the models. Most common layer types are 1D or 2D convolutional layers (_Conv1D_, _Conv2D_), batch normalization layers (_BatchNorm_), or ReLu activation layers (_relu_).\n",
    "For more information see the [mcfly user manual](https://github.com/NLeSC/mcfly/wiki/User-manual) and the [tutorial cheat sheet](https://github.com/NLeSC/mcfly-tutorial/blob/master/cheatsheet.md). "
   ]
  },
  {
   "cell_type": "code",
   "execution_count": 21,
   "metadata": {},
   "outputs": [
    {
     "data": {
      "image/png": "[encoded data removed]",
      "text/plain": [
       "<Figure size 720x1274.4 with 1 Axes>"
      ]
     },
     "metadata": {},
     "output_type": "display_data"
    }
   ],
   "source": [
    "#from mcfly import model_overview\n",
    "from model_visualization import model_overview\n",
    "\n",
    "model_overview(models, \n",
    "                   max_num_models=5, \n",
    "                   scale_figwidth=10,\n",
    "                   scale_boxes=1.2, \n",
    "                   file_figure = None, #\"model_comparison.png\",\n",
    "                   extra_layer_info=False)"
   ]
  },
  {
   "cell_type": "markdown",
   "metadata": {},
   "source": [
    "##### More detailed output of model parameters\n",
    "Besides the graphical overview of the generated models it is also possible to access all model layers and paramters in more detail. <br>\n",
    "Here, the layers are shown as table rows.\n",
    "The summary also shows the data shape of each layer output and the number of parameters that are trained within this layer."
   ]
  },
  {
   "cell_type": "code",
   "execution_count": 22,
   "metadata": {},
   "outputs": [
    {
     "name": "stdout",
     "output_type": "stream",
     "text": [
      "-------------------------------------------------------------------------------------------------------\n",
      "Model 0 (model type: CNN)\n",
      " \n",
      "Hyperparameters:\n",
      "{'learning_rate': 0.08360289270402858, 'regularization_rate': 0.0022439468517196116, 'filters': array([85, 17, 44]), 'fc_hidden_nodes': 443}\n",
      " \n",
      "Model description:\n",
      "_________________________________________________________________\n",
      "Layer (type)                 Output Shape              Param #   \n",
      "=================================================================\n",
      "batch_normalization_1 (Batch (None, 512, 9)            36        \n",
      "_________________________________________________________________\n",
      "conv1d_1 (Conv1D)            (None, 512, 85)           2380      \n",
      "_________________________________________________________________\n",
      "batch_normalization_2 (Batch (None, 512, 85)           340       \n",
      "_________________________________________________________________\n",
      "activation_1 (Activation)    (None, 512, 85)           0         \n",
      "_________________________________________________________________\n",
      "conv1d_2 (Conv1D)            (None, 512, 17)           4352      \n",
      "_________________________________________________________________\n",
      "batch_normalization_3 (Batch (None, 512, 17)           68        \n",
      "_________________________________________________________________\n",
      "activation_2 (Activation)    (None, 512, 17)           0         \n",
      "_________________________________________________________________\n",
      "conv1d_3 (Conv1D)            (None, 512, 44)           2288      \n",
      "_________________________________________________________________\n",
      "batch_normalization_4 (Batch (None, 512, 44)           176       \n",
      "_________________________________________________________________\n",
      "activation_3 (Activation)    (None, 512, 44)           0         \n",
      "_________________________________________________________________\n",
      "flatten_1 (Flatten)          (None, 22528)             0         \n",
      "_________________________________________________________________\n",
      "dense_1 (Dense)              (None, 443)               9980347   \n",
      "_________________________________________________________________\n",
      "activation_4 (Activation)    (None, 443)               0         \n",
      "_________________________________________________________________\n",
      "dense_2 (Dense)              (None, 7)                 3108      \n",
      "_________________________________________________________________\n",
      "batch_normalization_5 (Batch (None, 7)                 28        \n",
      "_________________________________________________________________\n",
      "activation_5 (Activation)    (None, 7)                 0         \n",
      "=================================================================\n",
      "Total params: 9,993,123\n",
      "Trainable params: 9,992,799\n",
      "Non-trainable params: 324\n",
      "_________________________________________________________________\n",
      " \n",
      "-------------------------------------------------------------------------------------------------------\n",
      "Model 1 (model type: DeepConvLSTM)\n",
      " \n",
      "Hyperparameters:\n",
      "{'learning_rate': 0.000893145093504032, 'regularization_rate': 0.00319386451934688, 'filters': [48, 43, 68, 77], 'lstm_dims': [78]}\n",
      " \n",
      "Model description:\n",
      "_________________________________________________________________\n",
      "Layer (type)                 Output Shape              Param #   \n",
      "=================================================================\n",
      "batch_normalization_6 (Batch (None, 512, 9)            36        \n",
      "_________________________________________________________________\n",
      "reshape_1 (Reshape)          (None, 512, 9, 1)         0         \n",
      "_________________________________________________________________\n",
      "conv2d_1 (Conv2D)            (None, 512, 9, 48)        192       \n",
      "_________________________________________________________________\n",
      "batch_normalization_7 (Batch (None, 512, 9, 48)        192       \n",
      "_________________________________________________________________\n",
      "activation_6 (Activation)    (None, 512, 9, 48)        0         \n",
      "_________________________________________________________________\n",
      "conv2d_2 (Conv2D)            (None, 512, 9, 43)        6235      \n",
      "_________________________________________________________________\n",
      "batch_normalization_8 (Batch (None, 512, 9, 43)        172       \n",
      "_________________________________________________________________\n",
      "activation_7 (Activation)    (None, 512, 9, 43)        0         \n",
      "_________________________________________________________________\n",
      "conv2d_3 (Conv2D)            (None, 512, 9, 68)        8840      \n",
      "_________________________________________________________________\n",
      "batch_normalization_9 (Batch (None, 512, 9, 68)        272       \n",
      "_________________________________________________________________\n",
      "activation_8 (Activation)    (None, 512, 9, 68)        0         \n",
      "_________________________________________________________________\n",
      "conv2d_4 (Conv2D)            (None, 512, 9, 77)        15785     \n",
      "_________________________________________________________________\n",
      "batch_normalization_10 (Batc (None, 512, 9, 77)        308       \n",
      "_________________________________________________________________\n",
      "activation_9 (Activation)    (None, 512, 9, 77)        0         \n",
      "_________________________________________________________________\n",
      "reshape_2 (Reshape)          (None, 512, 693)          0         \n",
      "_________________________________________________________________\n",
      "lstm_1 (LSTM)                (None, 512, 78)           240864    \n",
      "_________________________________________________________________\n",
      "dropout_1 (Dropout)          (None, 512, 78)           0         \n",
      "_________________________________________________________________\n",
      "time_distributed_1 (TimeDist (None, 512, 7)            553       \n",
      "_________________________________________________________________\n",
      "activation_10 (Activation)   (None, 512, 7)            0         \n",
      "_________________________________________________________________\n",
      "lambda_1 (Lambda)            (None, 7)                 0         \n",
      "=================================================================\n",
      "Total params: 273,449\n",
      "Trainable params: 272,959\n",
      "Non-trainable params: 490\n",
      "_________________________________________________________________\n",
      " \n",
      "-------------------------------------------------------------------------------------------------------\n",
      "Model 2 (model type: DeepConvLSTM)\n",
      " \n",
      "Hyperparameters:\n",
      "{'learning_rate': 0.0045162313812273, 'regularization_rate': 0.0005482537387722349, 'filters': [97, 61, 39, 54, 59, 16], 'lstm_dims': [15, 79]}\n",
      " \n",
      "Model description:\n",
      "_________________________________________________________________\n",
      "Layer (type)                 Output Shape              Param #   \n",
      "=================================================================\n",
      "batch_normalization_11 (Batc (None, 512, 9)            36        \n",
      "_________________________________________________________________\n",
      "reshape_3 (Reshape)          (None, 512, 9, 1)         0         \n",
      "_________________________________________________________________\n",
      "conv2d_5 (Conv2D)            (None, 512, 9, 97)        388       \n",
      "_________________________________________________________________\n",
      "batch_normalization_12 (Batc (None, 512, 9, 97)        388       \n",
      "_________________________________________________________________\n",
      "activation_11 (Activation)   (None, 512, 9, 97)        0         \n",
      "_________________________________________________________________\n",
      "conv2d_6 (Conv2D)            (None, 512, 9, 61)        17812     \n",
      "_________________________________________________________________\n",
      "batch_normalization_13 (Batc (None, 512, 9, 61)        244       \n",
      "_________________________________________________________________\n",
      "activation_12 (Activation)   (None, 512, 9, 61)        0         \n",
      "_________________________________________________________________\n",
      "conv2d_7 (Conv2D)            (None, 512, 9, 39)        7176      \n",
      "_________________________________________________________________\n",
      "batch_normalization_14 (Batc (None, 512, 9, 39)        156       \n",
      "_________________________________________________________________\n",
      "activation_13 (Activation)   (None, 512, 9, 39)        0         \n",
      "_________________________________________________________________\n",
      "conv2d_8 (Conv2D)            (None, 512, 9, 54)        6372      \n",
      "_________________________________________________________________\n",
      "batch_normalization_15 (Batc (None, 512, 9, 54)        216       \n",
      "_________________________________________________________________\n",
      "activation_14 (Activation)   (None, 512, 9, 54)        0         \n",
      "_________________________________________________________________\n",
      "conv2d_9 (Conv2D)            (None, 512, 9, 59)        9617      \n",
      "_________________________________________________________________\n",
      "batch_normalization_16 (Batc (None, 512, 9, 59)        236       \n",
      "_________________________________________________________________\n",
      "activation_15 (Activation)   (None, 512, 9, 59)        0         \n",
      "_________________________________________________________________\n",
      "conv2d_10 (Conv2D)           (None, 512, 9, 16)        2848      \n",
      "_________________________________________________________________\n",
      "batch_normalization_17 (Batc (None, 512, 9, 16)        64        \n",
      "_________________________________________________________________\n",
      "activation_16 (Activation)   (None, 512, 9, 16)        0         \n",
      "_________________________________________________________________\n",
      "reshape_4 (Reshape)          (None, 512, 144)          0         \n",
      "_________________________________________________________________\n",
      "lstm_2 (LSTM)                (None, 512, 15)           9600      \n",
      "_________________________________________________________________\n",
      "lstm_3 (LSTM)                (None, 512, 79)           30020     \n",
      "_________________________________________________________________\n",
      "dropout_2 (Dropout)          (None, 512, 79)           0         \n",
      "_________________________________________________________________\n",
      "time_distributed_2 (TimeDist (None, 512, 7)            560       \n",
      "_________________________________________________________________\n",
      "activation_17 (Activation)   (None, 512, 7)            0         \n",
      "_________________________________________________________________\n",
      "lambda_2 (Lambda)            (None, 7)                 0         \n",
      "=================================================================\n",
      "Total params: 85,733\n",
      "Trainable params: 85,063\n",
      "Non-trainable params: 670\n",
      "_________________________________________________________________\n",
      " \n",
      "-------------------------------------------------------------------------------------------------------\n",
      "Model 3 (model type: DeepConvLSTM)\n",
      " \n",
      "Hyperparameters:\n",
      "{'learning_rate': 0.00011922953164184091, 'regularization_rate': 0.0028975347310818715, 'filters': [82, 85, 23, 23], 'lstm_dims': [52, 73, 73, 52]}\n",
      " \n",
      "Model description:\n",
      "_________________________________________________________________\n",
      "Layer (type)                 Output Shape              Param #   \n",
      "=================================================================\n",
      "batch_normalization_18 (Batc (None, 512, 9)            36        \n",
      "_________________________________________________________________\n",
      "reshape_5 (Reshape)          (None, 512, 9, 1)         0         \n",
      "_________________________________________________________________\n",
      "conv2d_11 (Conv2D)           (None, 512, 9, 82)        328       \n",
      "_________________________________________________________________\n",
      "batch_normalization_19 (Batc (None, 512, 9, 82)        328       \n",
      "_________________________________________________________________\n",
      "activation_18 (Activation)   (None, 512, 9, 82)        0         \n",
      "_________________________________________________________________\n",
      "conv2d_12 (Conv2D)           (None, 512, 9, 85)        20995     \n",
      "_________________________________________________________________\n",
      "batch_normalization_20 (Batc (None, 512, 9, 85)        340       \n",
      "_________________________________________________________________\n",
      "activation_19 (Activation)   (None, 512, 9, 85)        0         \n",
      "_________________________________________________________________\n",
      "conv2d_13 (Conv2D)           (None, 512, 9, 23)        5888      \n",
      "_________________________________________________________________\n",
      "batch_normalization_21 (Batc (None, 512, 9, 23)        92        \n",
      "_________________________________________________________________\n",
      "activation_20 (Activation)   (None, 512, 9, 23)        0         \n",
      "_________________________________________________________________\n",
      "conv2d_14 (Conv2D)           (None, 512, 9, 23)        1610      \n",
      "_________________________________________________________________\n",
      "batch_normalization_22 (Batc (None, 512, 9, 23)        92        \n",
      "_________________________________________________________________\n",
      "activation_21 (Activation)   (None, 512, 9, 23)        0         \n",
      "_________________________________________________________________\n",
      "reshape_6 (Reshape)          (None, 512, 207)          0         \n",
      "_________________________________________________________________\n",
      "lstm_4 (LSTM)                (None, 512, 52)           54080     \n",
      "_________________________________________________________________\n",
      "lstm_5 (LSTM)                (None, 512, 73)           36792     \n",
      "_________________________________________________________________\n",
      "lstm_6 (LSTM)                (None, 512, 73)           42924     \n",
      "_________________________________________________________________\n",
      "lstm_7 (LSTM)                (None, 512, 52)           26208     \n",
      "_________________________________________________________________\n",
      "dropout_3 (Dropout)          (None, 512, 52)           0         \n",
      "_________________________________________________________________\n",
      "time_distributed_3 (TimeDist (None, 512, 7)            371       \n",
      "_________________________________________________________________\n",
      "activation_22 (Activation)   (None, 512, 7)            0         \n",
      "_________________________________________________________________\n",
      "lambda_3 (Lambda)            (None, 7)                 0         \n",
      "=================================================================\n",
      "Total params: 190,084\n",
      "Trainable params: 189,640\n",
      "Non-trainable params: 444\n",
      "_________________________________________________________________\n",
      " \n",
      "-------------------------------------------------------------------------------------------------------\n",
      "Model 4 (model type: CNN)\n",
      " \n",
      "Hyperparameters:\n",
      "{'learning_rate': 0.0010358940660228366, 'regularization_rate': 0.034561566363944925, 'filters': array([38, 13, 59, 84, 66]), 'fc_hidden_nodes': 129}\n",
      " \n",
      "Model description:\n",
      "_________________________________________________________________\n",
      "Layer (type)                 Output Shape              Param #   \n",
      "=================================================================\n",
      "batch_normalization_23 (Batc (None, 512, 9)            36        \n",
      "_________________________________________________________________\n",
      "conv1d_4 (Conv1D)            (None, 512, 38)           1064      \n",
      "_________________________________________________________________\n",
      "batch_normalization_24 (Batc (None, 512, 38)           152       \n",
      "_________________________________________________________________\n",
      "activation_23 (Activation)   (None, 512, 38)           0         \n",
      "_________________________________________________________________\n",
      "conv1d_5 (Conv1D)            (None, 512, 13)           1495      \n",
      "_________________________________________________________________\n",
      "batch_normalization_25 (Batc (None, 512, 13)           52        \n",
      "_________________________________________________________________\n",
      "activation_24 (Activation)   (None, 512, 13)           0         \n",
      "_________________________________________________________________\n",
      "conv1d_6 (Conv1D)            (None, 512, 59)           2360      \n",
      "_________________________________________________________________\n",
      "batch_normalization_26 (Batc (None, 512, 59)           236       \n",
      "_________________________________________________________________\n",
      "activation_25 (Activation)   (None, 512, 59)           0         \n",
      "_________________________________________________________________\n",
      "conv1d_7 (Conv1D)            (None, 512, 84)           14952     \n",
      "_________________________________________________________________\n",
      "batch_normalization_27 (Batc (None, 512, 84)           336       \n",
      "_________________________________________________________________\n",
      "activation_26 (Activation)   (None, 512, 84)           0         \n",
      "_________________________________________________________________\n",
      "conv1d_8 (Conv1D)            (None, 512, 66)           16698     \n",
      "_________________________________________________________________\n",
      "batch_normalization_28 (Batc (None, 512, 66)           264       \n",
      "_________________________________________________________________\n",
      "activation_27 (Activation)   (None, 512, 66)           0         \n",
      "_________________________________________________________________\n",
      "flatten_2 (Flatten)          (None, 33792)             0         \n",
      "_________________________________________________________________\n",
      "dense_6 (Dense)              (None, 129)               4359297   \n",
      "_________________________________________________________________\n",
      "activation_28 (Activation)   (None, 129)               0         \n",
      "_________________________________________________________________\n",
      "dense_7 (Dense)              (None, 7)                 910       \n",
      "_________________________________________________________________\n",
      "batch_normalization_29 (Batc (None, 7)                 28        \n",
      "_________________________________________________________________\n",
      "activation_29 (Activation)   (None, 7)                 0         \n",
      "=================================================================\n",
      "Total params: 4,397,880\n",
      "Trainable params: 4,397,328\n",
      "Non-trainable params: 552\n",
      "_________________________________________________________________\n",
      " \n"
     ]
    }
   ],
   "source": [
    "models_to_print = range(len(models))\n",
    "for i, item in enumerate(models):\n",
    "    if i in models_to_print:\n",
    "        model, params, model_types = item\n",
    "        print(\"-------------------------------------------------------------------------------------------------------\")\n",
    "        print(\"Model \" + str(i) + \" (model type: \" + model_types + \")\")\n",
    "        print(\" \")\n",
    "        print(\"Hyperparameters:\")\n",
    "        print(params)\n",
    "        print(\" \")\n",
    "        print(\"Model description:\")\n",
    "        model.summary()\n",
    "        print(\" \")"
   ]
  },
  {
   "cell_type": "markdown",
   "metadata": {},
   "source": [
    "### *Question 3: Can you guess what hyperparameter 'learning rate' stands for?*"
   ]
  },
  {
   "cell_type": "markdown",
   "metadata": {},
   "source": [
    "## Compare models\n",
    "Now that the model architectures have been generated it is time to compare the models by training them on a subset of the training data and evaluating the models on the validation subset. This will help us to choose the best candidate model. The performance results for the models are stored in a json file, which we will visually inspect later on."
   ]
  },
  {
   "cell_type": "code",
   "execution_count": 23,
   "metadata": {},
   "outputs": [],
   "source": [
    "# Define directory where the results, e.g. json file, will be stored\n",
    "resultpath = os.path.join(directory_to_extract_to, 'data/models')\n",
    "if not os.path.exists(resultpath):\n",
    "        os.makedirs(resultpath)"
   ]
  },
  {
   "cell_type": "markdown",
   "metadata": {},
   "source": [
    "We are now going to train each of the models that we generated. On the one hand we want to train them as quickly as possible in order to be able to pick the best one as soon as possible. On the other hand we have to train each model long enough to get a good impression of its potential.\n",
    "\n",
    "We can influence the train time by adjusting the number of data samples that are used. This can be set with the argument 'subset_size'. We can also adjust the number of times the subset is iterated over. This number is called an epoch. We recommend to start with no more than 5 epochs and a maximum subset size of 300. You can experiment with these numbers."
   ]
  },
  {
   "cell_type": "code",
   "execution_count": 24,
   "metadata": {},
   "outputs": [
    {
     "name": "stdout",
     "output_type": "stream",
     "text": [
      "Training model 0 CNN\n",
      "Train on 300 samples, validate on 100 samples\n",
      "Epoch 1/5\n",
      "300/300 [==============================] - 6s 21ms/step - loss: 555.3925 - acc: 0.5067 - val_loss: 427.0047 - val_acc: 0.3000\n",
      "Epoch 2/5\n",
      "300/300 [==============================] - 3s 12ms/step - loss: 209.4111 - acc: 0.6400 - val_loss: 73.6920 - val_acc: 0.3000\n",
      "Epoch 3/5\n",
      "300/300 [==============================] - 3s 12ms/step - loss: 40.0332 - acc: 0.6300 - val_loss: 20.5533 - val_acc: 0.1300\n",
      "Epoch 4/5\n",
      "300/300 [==============================] - 4s 12ms/step - loss: 11.7653 - acc: 0.6500 - val_loss: 7.8834 - val_acc: 0.2500\n",
      "Epoch 5/5\n",
      "300/300 [==============================] - 5s 15ms/step - loss: 5.1938 - acc: 0.6333 - val_loss: 5.3296 - val_acc: 0.3300\n",
      "Training model 1 DeepConvLSTM\n",
      "Train on 300 samples, validate on 100 samples\n",
      "Epoch 1/5\n",
      "300/300 [==============================] - 52s 172ms/step - loss: 2.3719 - acc: 0.3900 - val_loss: 1.7202 - val_acc: 0.7400\n",
      "Epoch 2/5\n",
      "300/300 [==============================] - 49s 164ms/step - loss: 1.5924 - acc: 0.7333 - val_loss: 1.3445 - val_acc: 0.8800\n",
      "Epoch 3/5\n",
      "300/300 [==============================] - 49s 164ms/step - loss: 1.4111 - acc: 0.7767 - val_loss: 1.3825 - val_acc: 0.8200\n",
      "Epoch 4/5\n",
      "300/300 [==============================] - 51s 171ms/step - loss: 1.4759 - acc: 0.7567 - val_loss: 1.3807 - val_acc: 0.8300\n",
      "Epoch 5/5\n",
      "300/300 [==============================] - 50s 165ms/step - loss: 1.5602 - acc: 0.7400 - val_loss: 1.3258 - val_acc: 0.8000\n",
      "Training model 2 DeepConvLSTM\n",
      "Train on 300 samples, validate on 100 samples\n",
      "Epoch 1/5\n",
      "300/300 [==============================] - 72s 239ms/step - loss: 1.6846 - acc: 0.4400 - val_loss: 1.4483 - val_acc: 0.5200\n",
      "Epoch 2/5\n",
      "300/300 [==============================] - 68s 225ms/step - loss: 1.3465 - acc: 0.5533 - val_loss: 1.2505 - val_acc: 0.5600\n",
      "Epoch 3/5\n",
      "300/300 [==============================] - 68s 228ms/step - loss: 1.2132 - acc: 0.6267 - val_loss: 1.3902 - val_acc: 0.5100\n",
      "Epoch 4/5\n",
      "300/300 [==============================] - 68s 227ms/step - loss: 1.0746 - acc: 0.6300 - val_loss: 1.4729 - val_acc: 0.5000\n",
      "Epoch 5/5\n",
      "300/300 [==============================] - 68s 226ms/step - loss: 0.9005 - acc: 0.7267 - val_loss: 0.8637 - val_acc: 0.7500\n",
      "Training model 3 DeepConvLSTM\n",
      "Train on 300 samples, validate on 100 samples\n",
      "Epoch 1/5\n",
      "300/300 [==============================] - 64s 215ms/step - loss: 2.5944 - acc: 0.2067 - val_loss: 2.5519 - val_acc: 0.4500\n",
      "Epoch 2/5\n",
      "300/300 [==============================] - 59s 196ms/step - loss: 2.5239 - acc: 0.4000 - val_loss: 2.4794 - val_acc: 0.5400\n",
      "Epoch 3/5\n",
      "300/300 [==============================] - 59s 197ms/step - loss: 2.4391 - acc: 0.5600 - val_loss: 2.3639 - val_acc: 0.5500\n",
      "Epoch 4/5\n",
      "300/300 [==============================] - 60s 201ms/step - loss: 2.2920 - acc: 0.5800 - val_loss: 2.1946 - val_acc: 0.5400\n",
      "Epoch 5/5\n",
      "300/300 [==============================] - 60s 198ms/step - loss: 2.0889 - acc: 0.6233 - val_loss: 2.0039 - val_acc: 0.5600\n",
      "Training model 4 CNN\n",
      "Train on 300 samples, validate on 100 samples\n",
      "Epoch 1/5\n",
      "300/300 [==============================] - 7s 24ms/step - loss: 15.0647 - acc: 0.5800 - val_loss: 14.0580 - val_acc: 0.8100\n",
      "Epoch 2/5\n",
      "300/300 [==============================] - 4s 13ms/step - loss: 12.9677 - acc: 0.8667 - val_loss: 11.2919 - val_acc: 0.8700\n",
      "Epoch 3/5\n",
      "300/300 [==============================] - 4s 13ms/step - loss: 10.0575 - acc: 0.8733 - val_loss: 9.1510 - val_acc: 0.8600\n",
      "Epoch 4/5\n",
      "300/300 [==============================] - 4s 13ms/step - loss: 8.0060 - acc: 0.8567 - val_loss: 7.8372 - val_acc: 0.5200\n",
      "Epoch 5/5\n",
      "300/300 [==============================] - 4s 13ms/step - loss: 6.5184 - acc: 0.9133 - val_loss: 6.9506 - val_acc: 0.3700\n",
      "Details of the training process were stored in  C:\\Users\\FlorianHuber\\OneDrive - Netherlands eScience Center\\Project_mcfly\\mcfly-tutorial\\data/models\\modelcomparison.json\n"
     ]
    }
   ],
   "source": [
    "outputfile = os.path.join(resultpath, 'modelcomparison.json')\n",
    "histories, val_accuracies, val_losses = find_architecture.train_models_on_samples(X_train, y_train_binary,\n",
    "                                                                           X_val, y_val_binary,\n",
    "                                                                           models,nr_epochs=5,\n",
    "                                                                           subset_size=300,\n",
    "                                                                           verbose=True,\n",
    "                                                                           outputfile=outputfile)\n",
    "print('Details of the training process were stored in ',outputfile)"
   ]
  },
  {
   "cell_type": "markdown",
   "metadata": {},
   "source": [
    "### *Question 4: What do the terms 'acc' and 'loss' in the output refer to?*"
   ]
  },
  {
   "cell_type": "markdown",
   "metadata": {},
   "source": [
    "# Inspect model performance (Visualization)\n",
    "\n",
    "We can inspect the learning process in the visualization tool on http://nlesc.github.io/mcfly/.\n",
    "\n",
    "Alternatively, you can run the visualization from a local web service:\n",
    "- Clone the mcfly github repository (if you haven't done so already for visualization)\n",
    "\n",
    " `git clone https://github.com/NLeSC/mcfly`\n",
    "\n",
    "\n",
    "- navigate to the html folder:\n",
    "\n",
    " `cd mcfly/html`\n",
    "\n",
    "\n",
    "- Start a web server. This can be done in various ways, for example:\n",
    " - for python 3 you can use: `python3 -m http.server`\n",
    " - for python 2 you can use: `python2 -m SimpleHTTPServer`\n",
    "\n",
    "Notice the port number the web server is serving on. This is usually 8000.\n",
    "With a web browser, navigate to [localhost:8000](localhost:8000). \n",
    "\n",
    "You need to upload the json file that contains the details of the training process. The following line of code shows the path to this file:"
   ]
  },
  {
   "cell_type": "code",
   "execution_count": 25,
   "metadata": {},
   "outputs": [
    {
     "data": {
      "text/plain": [
       "'C:\\\\Users\\\\FlorianHuber\\\\OneDrive - Netherlands eScience Center\\\\Project_mcfly\\\\mcfly-tutorial\\\\data/models\\\\modelcomparison.json'"
      ]
     },
     "execution_count": 25,
     "metadata": {},
     "output_type": "execute_result"
    }
   ],
   "source": [
    "outputfile"
   ]
  },
  {
   "cell_type": "markdown",
   "metadata": {},
   "source": [
    "### *Question 5:  Look at the visualization. Which model performs best?*\n",
    "### *Question 6:  Did you train all models with a sufficient number of iterations?*"
   ]
  },
  {
   "cell_type": "markdown",
   "metadata": {},
   "source": [
    "# Inspect model performance (table)\n",
    "\n",
    "Let's compare the performance of the models by showing the results as a table."
   ]
  },
  {
   "cell_type": "code",
   "execution_count": 26,
   "metadata": {},
   "outputs": [
    {
     "data": {
      "text/html": [
       "<div>\n",
       "<style scoped>\n",
       "    .dataframe tbody tr th:only-of-type {\n",
       "        vertical-align: middle;\n",
       "    }\n",
       "\n",
       "    .dataframe tbody tr th {\n",
       "        vertical-align: top;\n",
       "    }\n",
       "\n",
       "    .dataframe thead th {\n",
       "        text-align: right;\n",
       "    }\n",
       "</style>\n",
       "<table border=\"1\" class=\"dataframe\">\n",
       "  <thead>\n",
       "    <tr style=\"text-align: right;\">\n",
       "      <th></th>\n",
       "      <th>model</th>\n",
       "      <th>train_acc</th>\n",
       "      <th>train_loss</th>\n",
       "      <th>val_acc</th>\n",
       "      <th>val_loss</th>\n",
       "    </tr>\n",
       "  </thead>\n",
       "  <tbody>\n",
       "    <tr>\n",
       "      <th>0</th>\n",
       "      <td>{'learning_rate': 0.08360289270402858, 'regula...</td>\n",
       "      <td>0.633333</td>\n",
       "      <td>5.193790</td>\n",
       "      <td>0.33</td>\n",
       "      <td>5.329594</td>\n",
       "    </tr>\n",
       "    <tr>\n",
       "      <th>1</th>\n",
       "      <td>{'learning_rate': 0.000893145093504032, 'regul...</td>\n",
       "      <td>0.740000</td>\n",
       "      <td>1.560198</td>\n",
       "      <td>0.80</td>\n",
       "      <td>1.325806</td>\n",
       "    </tr>\n",
       "    <tr>\n",
       "      <th>2</th>\n",
       "      <td>{'learning_rate': 0.0045162313812273, 'regular...</td>\n",
       "      <td>0.726667</td>\n",
       "      <td>0.900497</td>\n",
       "      <td>0.75</td>\n",
       "      <td>0.863687</td>\n",
       "    </tr>\n",
       "    <tr>\n",
       "      <th>3</th>\n",
       "      <td>{'learning_rate': 0.00011922953164184091, 'reg...</td>\n",
       "      <td>0.623333</td>\n",
       "      <td>2.088891</td>\n",
       "      <td>0.56</td>\n",
       "      <td>2.003892</td>\n",
       "    </tr>\n",
       "    <tr>\n",
       "      <th>4</th>\n",
       "      <td>{'learning_rate': 0.0010358940660228366, 'regu...</td>\n",
       "      <td>0.913333</td>\n",
       "      <td>6.518415</td>\n",
       "      <td>0.37</td>\n",
       "      <td>6.950583</td>\n",
       "    </tr>\n",
       "  </tbody>\n",
       "</table>\n",
       "</div>"
      ],
      "text/plain": [
       "                                               model  train_acc  train_loss  \\\n",
       "0  {'learning_rate': 0.08360289270402858, 'regula...   0.633333    5.193790   \n",
       "1  {'learning_rate': 0.000893145093504032, 'regul...   0.740000    1.560198   \n",
       "2  {'learning_rate': 0.0045162313812273, 'regular...   0.726667    0.900497   \n",
       "3  {'learning_rate': 0.00011922953164184091, 'reg...   0.623333    2.088891   \n",
       "4  {'learning_rate': 0.0010358940660228366, 'regu...   0.913333    6.518415   \n",
       "\n",
       "   val_acc  val_loss  \n",
       "0     0.33  5.329594  \n",
       "1     0.80  1.325806  \n",
       "2     0.75  0.863687  \n",
       "3     0.56  2.003892  \n",
       "4     0.37  6.950583  "
      ]
     },
     "execution_count": 26,
     "metadata": {},
     "output_type": "execute_result"
    }
   ],
   "source": [
    "modelcomparisons = pd.DataFrame({'model':[str(params) for model, params, model_types in models],\n",
    "                       'train_acc': [history.history['acc'][-1] for history in histories],\n",
    "                       'train_loss': [history.history['loss'][-1] for history in histories],\n",
    "                       'val_acc': [history.history['val_acc'][-1] for history in histories],\n",
    "                       'val_loss': [history.history['val_loss'][-1] for history in histories]\n",
    "                       })\n",
    "modelcomparisons.to_csv(os.path.join(resultpath, 'modelcomparisons.csv'))\n",
    "\n",
    "modelcomparisons"
   ]
  },
  {
   "cell_type": "markdown",
   "metadata": {
    "collapsed": true
   },
   "source": [
    "# Choose the best model\n",
    "Now that we found an effective architecture, we can choose the most promising model. For example, we can choose the model with the highest accuracy on the validation data set. To maximize this models performance, we will train this model on more data and more epochs."
   ]
  },
  {
   "cell_type": "code",
   "execution_count": 27,
   "metadata": {},
   "outputs": [
    {
     "name": "stdout",
     "output_type": "stream",
     "text": [
      "Model type and parameters of the best model:\n",
      "DeepConvLSTM\n",
      "{'learning_rate': 0.000893145093504032, 'regularization_rate': 0.00319386451934688, 'filters': [48, 43, 68, 77], 'lstm_dims': [78]}\n"
     ]
    }
   ],
   "source": [
    "best_model_index = np.argmax(val_accuracies)\n",
    "best_model, best_params, best_model_types = models[best_model_index]\n",
    "print('Model type and parameters of the best model:')\n",
    "print(best_model_types)\n",
    "print(best_params)"
   ]
  },
  {
   "cell_type": "markdown",
   "metadata": {},
   "source": [
    "## Train the best model on the full dataset"
   ]
  },
  {
   "cell_type": "markdown",
   "metadata": {},
   "source": [
    "Now that we have identified the best model architecture out of our random pool of models we can continue by training the model on the full training set.\n",
    "\n",
    "This would take some time, so instead we will train  on only a slightly larger subset."
   ]
  },
  {
   "cell_type": "code",
   "execution_count": 28,
   "metadata": {},
   "outputs": [
    {
     "name": "stdout",
     "output_type": "stream",
     "text": [
      "Train on 2500 samples, validate on 100 samples\n",
      "Epoch 1/2\n",
      "2500/2500 [==============================] - 389s 156ms/step - loss: 1.2788 - acc: 0.8344 - val_loss: 1.0643 - val_acc: 0.8800\n",
      "Epoch 2/2\n",
      "2500/2500 [==============================] - 395s 158ms/step - loss: 1.1378 - acc: 0.8636 - val_loss: 1.0128 - val_acc: 0.8900\n"
     ]
    }
   ],
   "source": [
    "#We make a copy of the model, to start training from fresh\n",
    "nr_epochs = 2\n",
    "datasize = 2500 # Change in `X_train.shape[0]` if training complete data set\n",
    "history = best_model.fit(X_train[:datasize,:,:], y_train_binary[:datasize,:],\n",
    "              epochs=nr_epochs, validation_data=(X_val, y_val_binary))"
   ]
  },
  {
   "cell_type": "markdown",
   "metadata": {},
   "source": [
    "### *Question 7: Why does it take longer to train the best model for one epoch now than when we were  comparing model archicatures earlier on?*"
   ]
  },
  {
   "cell_type": "markdown",
   "metadata": {},
   "source": [
    "### *Question 8: Do you think it is useful to train with more than 1 epoch?*"
   ]
  },
  {
   "cell_type": "markdown",
   "metadata": {},
   "source": [
    "### Saving, loading and comparing reloaded model with original model"
   ]
  },
  {
   "cell_type": "markdown",
   "metadata": {},
   "source": [
    "The model can be saved for future use. The savemodel function will save two separate files: a json file for the architecture and a npy (numpy array) file for the weights."
   ]
  },
  {
   "cell_type": "code",
   "execution_count": 29,
   "metadata": {},
   "outputs": [],
   "source": [
    "modelname = 'my_bestmodel.h5'\n",
    "model_path = os.path.join(resultpath,modelname)"
   ]
  },
  {
   "cell_type": "code",
   "execution_count": 30,
   "metadata": {},
   "outputs": [],
   "source": [
    "best_model.save(model_path)"
   ]
  },
  {
   "cell_type": "code",
   "execution_count": 31,
   "metadata": {},
   "outputs": [],
   "source": [
    "model_reloaded = load_model(model_path)"
   ]
  },
  {
   "cell_type": "markdown",
   "metadata": {},
   "source": [
    "The model has been reloaded. Let's reassure that this model has the same weights"
   ]
  },
  {
   "cell_type": "code",
   "execution_count": 32,
   "metadata": {},
   "outputs": [
    {
     "data": {
      "text/plain": [
       "True"
      ]
     },
     "execution_count": 32,
     "metadata": {},
     "output_type": "execute_result"
    }
   ],
   "source": [
    "np.all([np.all(x==y) for x,y in zip(best_model.get_weights(), model_reloaded.get_weights())])"
   ]
  },
  {
   "cell_type": "markdown",
   "metadata": {},
   "source": [
    "## Investigate model predictions"
   ]
  },
  {
   "cell_type": "markdown",
   "metadata": {},
   "source": [
    "We will now dive further into the Neural network that we created.\n",
    "We provide here a network that has been trained on the complete train set."
   ]
  },
  {
   "cell_type": "code",
   "execution_count": 35,
   "metadata": {},
   "outputs": [
    {
     "data": {
      "text/plain": [
       "True"
      ]
     },
     "execution_count": 35,
     "metadata": {},
     "output_type": "execute_result"
    }
   ],
   "source": [
    "os.path.isfile('./model/model.h5')"
   ]
  },
  {
   "cell_type": "code",
   "execution_count": 36,
   "metadata": {},
   "outputs": [
    {
     "name": "stderr",
     "output_type": "stream",
     "text": [
      "C:\\Users\\FlorianHuber\\Anaconda3\\lib\\site-packages\\keras\\engine\\saving.py:292: UserWarning: No training configuration found in save file: the model was *not* compiled. Compile it manually.\n",
      "  warnings.warn('No training configuration found in save file: '\n"
     ]
    }
   ],
   "source": [
    "if os.path.isfile('./model/model.h5'): \n",
    "    model = load_model('./model/model.h5')"
   ]
  },
  {
   "cell_type": "markdown",
   "metadata": {},
   "source": [
    "Note that the objects `models`, `best_model_fullytrained` and `best_model` that resulted from the mcfly functions are Keras objects. This means that you can use Keras functions on the objects, for example  `.predict`, (which when given the data, outputs the predictions for each sample) and `.evaluate` (which when given the data and the labels computes how well this model performs) . These functions are all documented in the [Keras documentation](https://keras.io/). "
   ]
  },
  {
   "cell_type": "code",
   "execution_count": 37,
   "metadata": {},
   "outputs": [],
   "source": [
    "## Inspect model predictions on validation data\n",
    "datasize = X_val.shape[0]\n",
    "probs = best_model.predict_proba(X_val[:datasize,:,:],batch_size=1)"
   ]
  },
  {
   "cell_type": "markdown",
   "metadata": {},
   "source": [
    "Let's have a look at the [confusion matrix](https://en.wikipedia.org/wiki/Confusion_matrix)"
   ]
  },
  {
   "cell_type": "code",
   "execution_count": 38,
   "metadata": {},
   "outputs": [
    {
     "data": {
      "text/html": [
       "<div>\n",
       "<style scoped>\n",
       "    .dataframe tbody tr th:only-of-type {\n",
       "        vertical-align: middle;\n",
       "    }\n",
       "\n",
       "    .dataframe tbody tr th {\n",
       "        vertical-align: top;\n",
       "    }\n",
       "\n",
       "    .dataframe thead th {\n",
       "        text-align: right;\n",
       "    }\n",
       "</style>\n",
       "<table border=\"1\" class=\"dataframe\">\n",
       "  <thead>\n",
       "    <tr style=\"text-align: right;\">\n",
       "      <th></th>\n",
       "      <th>lying</th>\n",
       "      <th>sitting</th>\n",
       "      <th>standing</th>\n",
       "      <th>walking</th>\n",
       "      <th>cycling</th>\n",
       "      <th>vaccuum_cleaning</th>\n",
       "      <th>ironing</th>\n",
       "    </tr>\n",
       "  </thead>\n",
       "  <tbody>\n",
       "    <tr>\n",
       "      <th>lying</th>\n",
       "      <td>13</td>\n",
       "      <td>0</td>\n",
       "      <td>0</td>\n",
       "      <td>0</td>\n",
       "      <td>0</td>\n",
       "      <td>0</td>\n",
       "      <td>0</td>\n",
       "    </tr>\n",
       "    <tr>\n",
       "      <th>sitting</th>\n",
       "      <td>0</td>\n",
       "      <td>13</td>\n",
       "      <td>1</td>\n",
       "      <td>0</td>\n",
       "      <td>0</td>\n",
       "      <td>0</td>\n",
       "      <td>0</td>\n",
       "    </tr>\n",
       "    <tr>\n",
       "      <th>standing</th>\n",
       "      <td>0</td>\n",
       "      <td>1</td>\n",
       "      <td>18</td>\n",
       "      <td>0</td>\n",
       "      <td>0</td>\n",
       "      <td>0</td>\n",
       "      <td>1</td>\n",
       "    </tr>\n",
       "    <tr>\n",
       "      <th>walking</th>\n",
       "      <td>0</td>\n",
       "      <td>1</td>\n",
       "      <td>0</td>\n",
       "      <td>14</td>\n",
       "      <td>0</td>\n",
       "      <td>0</td>\n",
       "      <td>0</td>\n",
       "    </tr>\n",
       "    <tr>\n",
       "      <th>cycling</th>\n",
       "      <td>0</td>\n",
       "      <td>0</td>\n",
       "      <td>0</td>\n",
       "      <td>0</td>\n",
       "      <td>12</td>\n",
       "      <td>0</td>\n",
       "      <td>0</td>\n",
       "    </tr>\n",
       "    <tr>\n",
       "      <th>vaccuum_cleaning</th>\n",
       "      <td>0</td>\n",
       "      <td>0</td>\n",
       "      <td>0</td>\n",
       "      <td>0</td>\n",
       "      <td>0</td>\n",
       "      <td>6</td>\n",
       "      <td>2</td>\n",
       "    </tr>\n",
       "    <tr>\n",
       "      <th>ironing</th>\n",
       "      <td>0</td>\n",
       "      <td>5</td>\n",
       "      <td>0</td>\n",
       "      <td>0</td>\n",
       "      <td>0</td>\n",
       "      <td>0</td>\n",
       "      <td>13</td>\n",
       "    </tr>\n",
       "  </tbody>\n",
       "</table>\n",
       "</div>"
      ],
      "text/plain": [
       "                  lying  sitting  standing  walking  cycling  \\\n",
       "lying                13        0         0        0        0   \n",
       "sitting               0       13         1        0        0   \n",
       "standing              0        1        18        0        0   \n",
       "walking               0        1         0       14        0   \n",
       "cycling               0        0         0        0       12   \n",
       "vaccuum_cleaning      0        0         0        0        0   \n",
       "ironing               0        5         0        0        0   \n",
       "\n",
       "                  vaccuum_cleaning  ironing  \n",
       "lying                            0        0  \n",
       "sitting                          0        0  \n",
       "standing                         0        1  \n",
       "walking                          0        0  \n",
       "cycling                          0        0  \n",
       "vaccuum_cleaning                 6        2  \n",
       "ironing                          0       13  "
      ]
     },
     "execution_count": 38,
     "metadata": {},
     "output_type": "execute_result"
    }
   ],
   "source": [
    "#columns are predicted, rows are truth\n",
    "predicted = probs.argmax(axis=1)\n",
    "y_index = y_val_binary.argmax(axis=1)\n",
    "confusion_matrix = pd.crosstab(pd.Series(y_index), pd.Series(predicted))\n",
    "confusion_matrix.index = [labels[i] for i in confusion_matrix.index]\n",
    "confusion_matrix.columns = [labels[i] for i in confusion_matrix.columns]\n",
    "confusion_matrix.reindex(columns=[l for l in labels], fill_value=0)\n",
    "confusion_matrix"
   ]
  },
  {
   "cell_type": "code",
   "execution_count": 39,
   "metadata": {},
   "outputs": [
    {
     "name": "stdout",
     "output_type": "stream",
     "text": [
      "1000/1000 [==============================] - 34s 34ms/step\n",
      "Score of best model: [0.9711083784103394, 0.931]\n"
     ]
    }
   ],
   "source": [
    "## Test on Testset\n",
    "score_test = best_model.evaluate(X_test, y_test_binary, verbose=True)\n",
    "print('Score of best model: ' + str(score_test))"
   ]
  },
  {
   "cell_type": "code",
   "execution_count": null,
   "metadata": {
    "collapsed": true
   },
   "outputs": [],
   "source": []
  }
 ],
 "metadata": {
  "anaconda-cloud": {},
  "kernelspec": {
   "display_name": "Python 3",
   "language": "python",
   "name": "python3"
  },
  "language_info": {
   "codemirror_mode": {
    "name": "ipython",
    "version": 3
   },
   "file_extension": ".py",
   "mimetype": "text/x-python",
   "name": "python",
   "nbconvert_exporter": "python",
   "pygments_lexer": "ipython3",
   "version": "3.6.5"
  }
 },
 "nbformat": 4,
 "nbformat_minor": 1
}
