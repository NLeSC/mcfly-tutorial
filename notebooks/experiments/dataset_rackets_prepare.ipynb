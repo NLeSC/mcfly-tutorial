{
 "cells": [
  {
   "attachments": {},
   "cell_type": "markdown",
   "metadata": {},
   "source": [
    "# Dataset: RacketSports\n",
    "\n",
    "http://www.timeseriesclassification.com/description.php?Dataset=RacketSports\n",
    "\n",
    "### Info from data source:\n",
    "The data was created by university students plyaing badminton or squash whilst wearing a smart watch (Sony Smart watch 35). The watch relayed the x-y-z coordinates for\n",
    "both the gyroscope and accelerometer to an android phone (One Plus 56). The phone\n",
    "wrote these values to an Attribute-Relation File Format (arff) file using an app developed\n",
    "by a UEA computer science masters student. The problem is to identify which sport and which stroke the players are making. The data was collected at a rate of 10 HZ over 3 seconds whilst the player played\n",
    "either a forehand/backhand in squash or a clear/smash in badminton.\n",
    "The data was collected as part of an undergraduate project by Phillip Perks in 2017/18.\n",
    "\n",
    "### Size:\n",
    "+ Training samples: 151\t\n",
    "+ Test sampels: 152\n",
    "+ Dimension: 30 timepoints x 6 channels\n",
    "+ Classes: 4\n"
   ]
  },
  {
   "cell_type": "code",
   "execution_count": 66,
   "metadata": {},
   "outputs": [],
   "source": [
    "import numpy as np\n",
    "import os\n",
    "import sys\n",
    "import pandas as pd\n",
    "\n",
    "CODE = 'C:\\\\OneDrive - Netherlands eScience Center\\\\Project_mcfly\\\\mcfly\\\\mcfly'\n",
    "DATA = 'C:\\\\OneDrive - Netherlands eScience Center\\\\Project_mcfly\\\\data\\\\RacketSports'\n",
    "sys.path.append(CODE)"
   ]
  },
  {
   "cell_type": "code",
   "execution_count": 6,
   "metadata": {},
   "outputs": [],
   "source": [
    "file_train = os.path.join(DATA, 'RacketSports_TRAIN.arff')\n",
    "file_test = os.path.join(DATA, 'RacketSports_TEST.arff')"
   ]
  },
  {
   "cell_type": "code",
   "execution_count": 34,
   "metadata": {},
   "outputs": [],
   "source": [
    "def load_racket_arff(filename):\n",
    "    start = 0\n",
    "\n",
    "    data = []\n",
    "    labels = []\n",
    "    start_line = 0\n",
    "    with open(filename) as fp:\n",
    "        line = fp.readline()\n",
    "        count = 0\n",
    "        while line:\n",
    "            if start == 1:\n",
    "                lines = line.split('\\\\n')\n",
    "                data_line = []\n",
    "                for l in lines:\n",
    "                    data_line_sub = []\n",
    "                    for entry in l.split(','):\n",
    "                        if entry.startswith('B') or entry.startswith('S'):\n",
    "                            labels.append(entry.replace(\"'\", \"\").replace('\\n', ''))\n",
    "                        else:\n",
    "                            data_line_sub.append(entry.replace(\"'\", \"\"))\n",
    "                    data_line.append(data_line_sub)\n",
    "                data.append(data_line)\n",
    "\n",
    "            if line.startswith('@data'):\n",
    "                start_line = count\n",
    "                #print(\"Actual data start in line\", start_line)\n",
    "                start = 1\n",
    "\n",
    "            line = fp.readline()\n",
    "            count += 1\n",
    "            \n",
    "    return np.swapaxes(np.array(data), 1,2), labels\n",
    "\n",
    "X_train, y_train = load_racket_arff(file_train)\n",
    "X_test0, y_test0 = load_racket_arff(file_test)"
   ]
  },
  {
   "cell_type": "code",
   "execution_count": 35,
   "metadata": {},
   "outputs": [
    {
     "name": "stdout",
     "output_type": "stream",
     "text": [
      "X_train.shape (151, 30, 6)\n",
      "151\n",
      "X_test.shape (152, 30, 6)\n",
      "152\n"
     ]
    }
   ],
   "source": [
    "print(\"X_train.shape\", X_train.shape)\n",
    "print(len(y_train))\n",
    "\n",
    "print(\"X_test.shape\", X_test0.shape)\n",
    "print(len(y_test0))"
   ]
  },
  {
   "cell_type": "markdown",
   "metadata": {},
   "source": [
    "### Plot test into test and validation:"
   ]
  },
  {
   "cell_type": "code",
   "execution_count": 42,
   "metadata": {},
   "outputs": [
    {
     "name": "stdout",
     "output_type": "stream",
     "text": [
      "[39 12  9 36 11 30 10 13  1 22 16 31 38 24 23 33 26 34 28 18] [0, 32, 2, 3, 4, 5, 6, 7, 8, 35, 37, 14, 15, 17, 19, 20, 21, 25, 27, 29]\n"
     ]
    }
   ],
   "source": [
    "IDs1 = np.random.choice(idx, len(idx) //2, replace=False)\n",
    "IDs2 = list(set(idx) - set(IDs1))\n",
    "print(IDs1, IDs2)"
   ]
  },
  {
   "cell_type": "code",
   "execution_count": 48,
   "metadata": {},
   "outputs": [
    {
     "name": "stdout",
     "output_type": "stream",
     "text": [
      "Squash_BackhandBoast 34\n",
      "Squash_ForehandBoast 35\n",
      "Badminton_Smash 40\n",
      "Badminton_Clear 43\n"
     ]
    }
   ],
   "source": [
    "y_val = []\n",
    "y_test = []\n",
    "IDs_val = []\n",
    "IDs_test = []\n",
    "\n",
    "for label in list(set(y_test0)):\n",
    "    idx = np.where(np.array(y_test0) == label)[0]\n",
    "    idx1 = np.random.choice(idx, len(idx)//2, replace=False)\n",
    "    idx2 = list(set(idx) - set(idx1))\n",
    "    IDs_val.extend(idx1)\n",
    "    IDs_test.extend(idx2)\n",
    "    y_val.extend(len(idx1) * [label])\n",
    "    y_test.extend(len(idx2) * [label])\n",
    "\n",
    "    print(label, y_test0.count(label))\n",
    "    \n",
    "X_test = X_test0[IDs_test,:,:]\n",
    "X_val = X_test0[IDs_val,:,:]"
   ]
  },
  {
   "cell_type": "code",
   "execution_count": 54,
   "metadata": {},
   "outputs": [
    {
     "name": "stdout",
     "output_type": "stream",
     "text": [
      "(77, 30, 6) (75, 30, 6)\n",
      "77 75\n"
     ]
    }
   ],
   "source": [
    "print(X_test.shape, X_val.shape)\n",
    "print(len(y_test), len(y_val))"
   ]
  },
  {
   "cell_type": "markdown",
   "metadata": {},
   "source": [
    "## Save pre-processed data as numpy files"
   ]
  },
  {
   "cell_type": "code",
   "execution_count": 65,
   "metadata": {},
   "outputs": [],
   "source": [
    "dataset_name = 'RacketSports_'\n",
    "\n",
    "output_path = 'C:\\\\OneDrive - Netherlands eScience Center\\\\Project_mcfly\\\\data\\\\processed'\n",
    "np.save(os.path.join(output_path, dataset_name + 'X_train.npy'), X_train)\n",
    "np.save(os.path.join(output_path, dataset_name + 'X_val.npy'), X_val)\n",
    "np.save(os.path.join(output_path, dataset_name + 'X_test.npy'), X_test)\n",
    "np.save(os.path.join(output_path, dataset_name + 'y_train.npy'), y_train)\n",
    "np.save(os.path.join(output_path, dataset_name + 'y_val.npy'), y_val)\n",
    "np.save(os.path.join(output_path, dataset_name + 'y_test.npy'), y_test)"
   ]
  },
  {
   "cell_type": "code",
   "execution_count": null,
   "metadata": {},
   "outputs": [],
   "source": []
  },
  {
   "cell_type": "code",
   "execution_count": 61,
   "metadata": {},
   "outputs": [
    {
     "data": {
      "text/plain": [
       "((30,), array([0.1, 0.2, 0.3, 0.4, 0.5, 0.6, 0.7, 0.8, 0.9, 1. , 1.1, 1.2, 1.3,\n",
       "        1.4, 1.5, 1.6, 1.7, 1.8, 1.9, 2. , 2.1, 2.2, 2.3, 2.4, 2.5, 2.6,\n",
       "        2.7, 2.8, 2.9, 3. ]))"
      ]
     },
     "execution_count": 61,
     "metadata": {},
     "output_type": "execute_result"
    }
   ],
   "source": [
    "time_axis = np.linspace( 0.1, 3, 30)\n",
    "time_axis.shape, time_axis"
   ]
  },
  {
   "cell_type": "markdown",
   "metadata": {},
   "source": [
    "## Or: Create new split of data ?"
   ]
  },
  {
   "cell_type": "code",
   "execution_count": 30,
   "metadata": {},
   "outputs": [
    {
     "name": "stdout",
     "output_type": "stream",
     "text": [
      "(303, 30, 6)\n",
      "303\n"
     ]
    }
   ],
   "source": [
    "X_data = np.concatenate((X_train, X_val), axis=0)\n",
    "print(X_data.shape)\n",
    "\n",
    "y_data = y_train.copy()\n",
    "y_data.extend(y_val)\n",
    "print(len(y_data))"
   ]
  },
  {
   "cell_type": "code",
   "execution_count": 31,
   "metadata": {},
   "outputs": [
    {
     "name": "stdout",
     "output_type": "stream",
     "text": [
      "Squash_BackhandBoast 68\n",
      "Squash_ForehandBoast 70\n",
      "Badminton_Smash 79\n",
      "Badminton_Clear 86\n"
     ]
    }
   ],
   "source": [
    "split = [0.6, 0.2, 0.2]\n",
    "\n",
    "for label in list(set(y_data)):\n",
    "    idx = np.where(np.array(y_data) == label)[0]\n",
    "    \n",
    "    #print(label, np.where(np.array(y_val) == label)[0].shape)\n",
    "    print(label, y_data.count(label))"
   ]
  },
  {
   "cell_type": "code",
   "execution_count": null,
   "metadata": {},
   "outputs": [],
   "source": []
  }
 ],
 "metadata": {
  "kernelspec": {
   "display_name": "Python 3",
   "language": "python",
   "name": "python3"
  },
  "language_info": {
   "codemirror_mode": {
    "name": "ipython",
    "version": 3
   },
   "file_extension": ".py",
   "mimetype": "text/x-python",
   "name": "python",
   "nbconvert_exporter": "python",
   "pygments_lexer": "ipython3",
   "version": "3.6.5"
  }
 },
 "nbformat": 4,
 "nbformat_minor": 2
}
